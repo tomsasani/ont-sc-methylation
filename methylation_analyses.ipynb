{
 "cells": [
  {
   "cell_type": "code",
   "execution_count": null,
   "metadata": {},
   "outputs": [],
   "source": [
    "import matplotlib\n",
    "matplotlib.use('Agg')\n",
    "import matplotlib.pyplot as plt\n",
    "import pandas as pd\n",
    "from collections import defaultdict, OrderedDict\n",
    "import numpy as np\n",
    "import seaborn as sns\n",
    "%matplotlib inline"
   ]
  },
  {
   "cell_type": "code",
   "execution_count": null,
   "metadata": {},
   "outputs": [],
   "source": [
    "def mean_signal_per_window(sites_signal, max_pos=1, window_size=1000):\n",
    "    \"\"\"\n",
    "    mean signal in non-overlapping windows \n",
    "    of specified size\n",
    "    \n",
    "    sites_signal: list of tuples formatted like (site, signal)\n",
    "    max_pos: the last chromosomal position at which an event was recorded \n",
    "    window_size: desired size of windows to bin signals\n",
    "    \"\"\"\n",
    "    import numpy as np\n",
    "    # generate windows of the specified size\n",
    "    windows = np.arange(0, max_pos, window_size)\n",
    "    window_counts = defaultdict(list)\n",
    "    # loop over every methylated site and catalog its \n",
    "    # window number, along with the signal at that site\n",
    "    for s in sites_signal:\n",
    "        bin_index = int(np.digitize(s[0], windows))\n",
    "        window_counts[bin_index * window_size].append(s[1])\n",
    "    return sorted(window_counts.items())\n"
   ]
  },
  {
   "cell_type": "code",
   "execution_count": null,
   "metadata": {},
   "outputs": [],
   "source": [
    "def convert_chrom_notation(chrom):\n",
    "    \"\"\"\n",
    "    add 'chr' prefixes\n",
    "    \"\"\"\n",
    "    if 'chr' in str(chrom):\n",
    "        return str(chrom)\n",
    "    else: return 'chr' + str(chrom)"
   ]
  },
  {
   "cell_type": "markdown",
   "metadata": {},
   "source": [
    "## Read in the methylation and Red1 ChIP data\n",
    "\n",
    "We'll need to make sure chromosome notation is constant in both files."
   ]
  },
  {
   "cell_type": "code",
   "execution_count": null,
   "metadata": {},
   "outputs": [],
   "source": [
    "# read in the Red1 data, and use new, simpler column names\n",
    "red1 = pd.read_csv(\"red1-chip.tsv\", sep=\"\\t\", header=0, \n",
    "                       names=[\"chrom\", \"pos\", \"background\", \"red1\", \"signal\"])\n",
    "\n",
    "# add chromosome prefixes\n",
    "red1['chrom'] = red1['chrom'].apply(convert_chrom_notation)\n",
    "\n",
    "# take a look at the data\n",
    "red1.head()"
   ]
  },
  {
   "cell_type": "code",
   "execution_count": null,
   "metadata": {},
   "outputs": [],
   "source": [
    "# read in the ONT methylation data\n",
    "# rename \"methylated_frequency\" to \"signal\"\n",
    "meth = pd.read_csv(\"methylation-frequency.tsv\", sep='\\t', header=0, \n",
    "                       names=[\"chrom\", \"pos\", \"end\", \"num_cpg_motifs\", \"depth\", \n",
    "                              \"methylated_reads\", \"signal\", \"sequence\"])\n",
    "\n",
    "meth.drop(columns=['end'], inplace=True)\n",
    "\n",
    "# take a look at the data\n",
    "meth.head()"
   ]
  },
  {
   "cell_type": "markdown",
   "metadata": {},
   "source": [
    "## Plot the raw methylation and Red1 signals across the genome\n",
    "\n",
    "This ends up being pretty messy!"
   ]
  },
  {
   "cell_type": "code",
   "execution_count": null,
   "metadata": {},
   "outputs": [],
   "source": [
    "f, ax = plt.subplots(figsize=(20,10))\n",
    "\n",
    "chrom = 'chr1'\n",
    "\n",
    "meth_ = meth[meth['chrom'] == chrom].query('signal > 0.')\n",
    "red1_ = red1[red1['chrom'] == chrom].query('signal > 0')\n",
    "\n",
    "ax2 = ax.twinx()\n",
    "\n",
    "sns.scatterplot(x=\"pos\", y=\"signal\", data=red1_, ax=ax, color='firebrick')\n",
    "sns.scatterplot(x=\"pos\", y=\"signal\", data=meth_, ax=ax2, color='dodgerblue')"
   ]
  },
  {
   "cell_type": "markdown",
   "metadata": {},
   "source": [
    "## Bin genome-wide signals into windows \n",
    "\n",
    "After binning the existing data into windows, we'll calculate the mean signal per window. This makes the plots much easier to parse, but it might be too simplistic to simply take the per-window mean."
   ]
  },
  {
   "cell_type": "code",
   "execution_count": null,
   "metadata": {},
   "outputs": [],
   "source": [
    "# create the figure object\n",
    "f, ax = plt.subplots(figsize=(20,10))\n",
    "ax2 = ax.twinx()\n",
    "\n",
    "# the chromosome we want to look at\n",
    "chrom = 'chr1'\n",
    "\n",
    "# the desired window size\n",
    "window_size = 500\n",
    "\n",
    "# subset the data to exclude sites with zero signal\n",
    "# also, exclude methylation sites with fewer than 10 reads\n",
    "meth_filt = meth.query('signal > 0.')\n",
    "red1_filt = red1.query('signal > 0')\n",
    "\n",
    "def bin_data(df, chrom='chr8', window_size=1):\n",
    "    \"\"\"\n",
    "    given a dataframe, subset to the chromosome of interest\n",
    "    and calculate the median signal per window\n",
    "    \"\"\"\n",
    "    # filter to only include the chromosome of interest\n",
    "    df = df[df['chrom'] == chrom]\n",
    "    # get arrays of positions and signals at those positions\n",
    "    sites, signal = df['pos'].values, df['signal'].values\n",
    "    # divide the data into `n_windows` and find the positions\n",
    "    # that separate those windows (`edges`)\n",
    "    max_pos = max(sites)    \n",
    "    sites_signal = zip(sites, signal)\n",
    "    # calculate the mean signal per window\n",
    "    mean_signal = mean_signal_per_window(sites_signal, max_pos=max_pos, window_size=window_size)\n",
    "    return [x[0] for x in mean_signal], [np.mean(x[1]) for x in mean_signal]\n",
    "\n",
    "# get the bin coordinates and mean signal per bin\n",
    "meth_x, meth_y = bin_data(meth_filt, chrom=chrom, window_size=window_size)\n",
    "red1_x, red1_y = bin_data(red1_filt, chrom=chrom, window_size=window_size)\n",
    "\n",
    "ax.plot(red1_x, red1_y, color=\"firebrick\", label=\"ChIP\", lw=2)\n",
    "ax2.plot(meth_x, meth_y, color=\"dodgerblue\", label=\"methylation\", lw=2)\n",
    "\n",
    "ax.legend(loc=\"upper left\")\n",
    "ax.set_ylabel(\"Mean ChIP signal\")\n",
    "ax2.legend(loc=\"upper right\")\n",
    "ax2.set_ylabel(\"Mean methylation frequency\")"
   ]
  },
  {
   "cell_type": "code",
   "execution_count": null,
   "metadata": {},
   "outputs": [],
   "source": []
  }
 ],
 "metadata": {
  "kernelspec": {
   "display_name": "Python 2",
   "language": "python",
   "name": "python2"
  },
  "language_info": {
   "codemirror_mode": {
    "name": "ipython",
    "version": 2
   },
   "file_extension": ".py",
   "mimetype": "text/x-python",
   "name": "python",
   "nbconvert_exporter": "python",
   "pygments_lexer": "ipython2",
   "version": "2.7.15"
  }
 },
 "nbformat": 4,
 "nbformat_minor": 2
}
