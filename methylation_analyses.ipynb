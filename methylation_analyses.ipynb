{
 "cells": [
  {
   "cell_type": "code",
   "execution_count": null,
   "metadata": {},
   "outputs": [],
   "source": [
    "import matplotlib\n",
    "matplotlib.use('Agg')\n",
    "import matplotlib.pyplot as plt\n",
    "import pandas as pd\n",
    "from collections import defaultdict\n",
    "import numpy as np\n",
    "import seaborn as sns\n",
    "%matplotlib inline"
   ]
  },
  {
   "cell_type": "code",
   "execution_count": null,
   "metadata": {},
   "outputs": [],
   "source": [
    "def to_binary(signal):\n",
    "    \"\"\"\n",
    "    convert normalized Red1 signal to\n",
    "    a binary value\n",
    "    \n",
    "    signal: float\n",
    "    \"\"\"\n",
    "    if signal > 0: return 1\n",
    "    else: return 0"
   ]
  },
  {
   "cell_type": "code",
   "execution_count": null,
   "metadata": {},
   "outputs": [],
   "source": [
    "def mean_signal_per_window(a, w=1000):\n",
    "    \"\"\"\n",
    "    mean signal in non-overlapping windows \n",
    "    of specified size\n",
    "    \n",
    "    a: list of floats\n",
    "    \"\"\"\n",
    "    import numpy as np\n",
    "    o = []\n",
    "    print np.array(a), np.array(a).shape\n",
    "    s = np.array_split(np.array(a), w)\n",
    "    return [np.median(a) for a in s]\n"
   ]
  },
  {
   "cell_type": "code",
   "execution_count": null,
   "metadata": {},
   "outputs": [],
   "source": [
    "def convert_chrom_notation(chrom):\n",
    "    \"\"\"\n",
    "    add 'chr' prefixes\n",
    "    \"\"\"\n",
    "    if 'chr' in str(chrom):\n",
    "        return str(chrom)\n",
    "    else: return 'chr' + str(chrom)"
   ]
  },
  {
   "cell_type": "markdown",
   "metadata": {},
   "source": [
    "## Read in the methylation and Red1 ChIP data\n",
    "\n",
    "We'll need to make sure chromosome notation is constant in both files."
   ]
  },
  {
   "cell_type": "code",
   "execution_count": null,
   "metadata": {},
   "outputs": [],
   "source": [
    "# read in the Red1 data, and use new, simpler column names\n",
    "red1 = pd.read_csv(\"red1-chip.tsv\", sep=\"\\t\", header=0, \n",
    "                       names=[\"chrom\", \"pos\", \"background\", \"red1\", \"signal\"])\n",
    "\n",
    "# add chromosome prefixes\n",
    "red1['chrom'] = red1['chrom'].apply(convert_chrom_notation)\n",
    "\n",
    "# take a look at the data\n",
    "red1.head()"
   ]
  },
  {
   "cell_type": "code",
   "execution_count": null,
   "metadata": {},
   "outputs": [],
   "source": [
    "# read in the ONT methylation data\n",
    "# rename \"methylated_frequency\" to \"signal\"\n",
    "meth = pd.read_csv(\"methylation-frequency.tsv\", sep='\\t', header=0, \n",
    "                       names=[\"chrom\", \"pos\", \"end\", \"num_cpg_motifs\", \"depth\", \n",
    "                              \"methylated_reads\", \"signal\", \"sequence\"])\n",
    "\n",
    "meth.drop(columns=['end'], inplace=True)\n",
    "\n",
    "# take a look at the data\n",
    "meth.head()"
   ]
  },
  {
   "cell_type": "markdown",
   "metadata": {},
   "source": [
    "## Plot the raw methylation and Red1 signals across the genome\n",
    "\n",
    "This ends up being pretty messy!"
   ]
  },
  {
   "cell_type": "code",
   "execution_count": null,
   "metadata": {},
   "outputs": [],
   "source": [
    "f, ax = plt.subplots(figsize=(15,5))\n",
    "\n",
    "chrom = 'chr8'\n",
    "\n",
    "meth_ = meth[meth['chrom'] == chrom]\n",
    "red1_ = red1[red1['chrom'] == chrom]\n",
    "\n",
    "ax2 = ax.twinx()\n",
    "\n",
    "sns.scatterplot(x=\"pos\", y=\"signal\", data=red1_, ax=ax, color='firebrick')\n",
    "sns.scatterplot(x=\"pos\", y=\"signal\", data=meth_, ax=ax2, color='dodgerblue')"
   ]
  },
  {
   "cell_type": "markdown",
   "metadata": {},
   "source": [
    "## Bin genome-wide signals into windows \n",
    "\n",
    "After binning the existing data into windows, we'll calculate the mean signal per window. This makes the plots much easier to parse, but it might be too simplistic to simply take the per-window mean."
   ]
  },
  {
   "cell_type": "code",
   "execution_count": null,
   "metadata": {},
   "outputs": [],
   "source": [
    "from scipy.interpolate import BSpline\n",
    "import scipy.stats as ss\n",
    "\n",
    "# create the figure object\n",
    "f, ax = plt.subplots(figsize=(15,5))\n",
    "ax2 = ax.twinx()\n",
    "\n",
    "# the chromosome we want to look at\n",
    "chrom = 'chr8'\n",
    "\n",
    "# subset the data to exclude sites with zero signal\n",
    "# also, exclude methylation sites with fewer than 10 reads\n",
    "meth_filt = meth.query('depth > 10 & signal > 0.25')\n",
    "red1_filt = red1.query('signal > 10')\n",
    "\n",
    "def bin_data(df, chrom='chr8', n_windows=100):\n",
    "    \"\"\"\n",
    "    given a dataframe, subset to the chromosome of interest\n",
    "    and calculate the median signal per window\n",
    "    \"\"\"\n",
    "    # filter to only include the chromosome of interest\n",
    "    df = df[df['chrom'] == chrom]\n",
    "    # get arrays of positions and signals at those positions\n",
    "    sites, signal = df['pos'].values, df['signal'].values\n",
    "    # divide the data into `n_windows` and find the positions\n",
    "    # that separate those windows (`edges`)\n",
    "    _, edges = np.histogram(sites, n_windows)\n",
    "    edges = edges[:-1]\n",
    "    # calculate the mean signal per window\n",
    "    mean_signal = mean_signal_per_window(signal, w=n_windows)\n",
    "    \n",
    "    return edges, mean_signal\n",
    "\n",
    "# get the bin coordinates and mean signal per bin\n",
    "meth_x, meth_y = bin_data(meth_filt, chrom=chrom, n_windows=100)\n",
    "red1_x, red1_y = bin_data(red1_filt, chrom=chrom, n_windows=100)\n",
    "\n",
    "ax.plot(red1_x, red1_y, color=\"dodgerblue\", label=\"ChIP\")\n",
    "ax2.plot(meth_x, meth_y, color=\"firebrick\", label=\"methylation\")\n",
    "\n",
    "ax.legend(loc=\"upper left\")\n",
    "ax.set_ylabel(\"Mean ChIP signal\")\n",
    "ax2.legend(loc=\"upper right\")\n",
    "ax2.set_ylabel(\"Mean methylation frequency\")"
   ]
  },
  {
   "cell_type": "markdown",
   "metadata": {},
   "source": [
    "## Smooth the genome-wide signals \n",
    "\n",
    "Here, we'll try interpolating the methylation and Red1 signals using a smaller set of x-values. In this way, we can smooth out the signal-vs-position plots a bit."
   ]
  },
  {
   "cell_type": "code",
   "execution_count": null,
   "metadata": {},
   "outputs": [],
   "source": [
    "from scipy.interpolate import BSpline\n",
    "import scipy.stats as ss\n",
    "\n",
    "# create the figure object\n",
    "f, ax = plt.subplots(figsize=(15,5))\n",
    "ax2 = ax.twinx()\n",
    "\n",
    "# the chromosome we want to look at\n",
    "chrom = 'chr16'\n",
    "meth_ = meth[meth['chrom'] == chrom]\n",
    "red1_ = red1[red1['chrom'] == chrom]\n",
    "\n",
    "# get arrays of positions and signals for both methylation and Red1 ChIP data\n",
    "meth_x, meth_y = meth_['pos'].values, meth_['signal'].values\n",
    "red1_x, red1_y = red1_['pos'].values, red1_['signal'].values\n",
    "\n",
    "# use interpolation to \"smooth\" the existing data\n",
    "meth_x_new = np.linspace(min(meth_x), max(meth_x), 100)\n",
    "meth_spl = BSpline(meth_x, meth_y, 3)\n",
    "red1_x_new = np.linspace(min(red1_x), max(red1_x), 100)\n",
    "red1_spl = BSpline(red1_x, red1_y, 3)\n",
    "\n",
    "ax2 = ax.twinx()\n",
    "\n",
    "# plot the interpolated points\n",
    "sns.lineplot(meth_x_new, meth_spl(meth_x_new), color='firebrick', label='methylation', ax=ax)\n",
    "sns.lineplot(red1_x_new, red1_spl(red1_x_new), color='dodgerblue', label='ChIP', ax=ax2)\n",
    "\n",
    "ax.legend(loc=\"upper left\")\n",
    "ax.set_ylabel(\"Mean ChIP signal\")\n",
    "ax2.legend(loc=\"upper right\")\n",
    "ax2.set_ylabel(\"Mean methylation frequency\")"
   ]
  },
  {
   "cell_type": "markdown",
   "metadata": {},
   "source": [
    "## Plot regions of the genome with and without methylation or Red1 signal\n",
    "\n",
    "Instead of plotting raw signals, let's try to convert every Red1 or methylation observation into a binary \"yes/no\" value, which simply represents the presence or absence of ChIP binding or methylation."
   ]
  },
  {
   "cell_type": "code",
   "execution_count": null,
   "metadata": {},
   "outputs": [],
   "source": [
    "def obs_per_window(a, w=1000):\n",
    "    \"\"\"\n",
    "    count the number of events in\n",
    "    non-overlapping windows of specified size\n",
    "    \n",
    "    a: list of integers\n",
    "    \"\"\"\n",
    "    o = []\n",
    "    bins = len(a) / w\n",
    "    s, e = 0, w\n",
    "    for b in range(bins):\n",
    "        b_count = sum(a[s:e])\n",
    "        o.append(b_count)\n",
    "        s += w\n",
    "        e += w\n",
    "    return o"
   ]
  },
  {
   "cell_type": "markdown",
   "metadata": {},
   "source": [
    "## Catalog every site where we observe Red1 binding signal"
   ]
  },
  {
   "cell_type": "code",
   "execution_count": null,
   "metadata": {},
   "outputs": [],
   "source": [
    "# convert normalized Red1 signals to binary values\n",
    "red1['binary_signal'] = red1['signal'].apply(to_binary)\n",
    "\n",
    "chrom_sizes = defaultdict(int)\n",
    "\n",
    "# get lists of binary Red1 signals (in 20 bp windows) for each chromosome\n",
    "# also, record the max length of each chromosome\n",
    "red1_signal = defaultdict(list)\n",
    "for v in red1[['chrom', 'pos', 'binary_signal']].values:\n",
    "    red1_signal[v[0]].append(v[2])\n",
    "    if chrom_sizes[v[0]] < v[1]:\n",
    "        chrom_sizes[v[0]] = v[1]"
   ]
  },
  {
   "cell_type": "markdown",
   "metadata": {},
   "source": [
    "## Catalog every site where we observe methylation\n",
    "\n",
    "Also, bin the observations into 20 bp bins, so that the data are equivalent to the Red1 data."
   ]
  },
  {
   "cell_type": "code",
   "execution_count": null,
   "metadata": {},
   "outputs": [],
   "source": [
    "# filter the data to include only high quality methylated sites\n",
    "meth_filt = meth.query('depth > 10 & signal > 0')\n",
    "\n",
    "# record the position of each high quality methylation event on each chromosome\n",
    "methylation_counts = defaultdict(list)\n",
    "for v in meth_filt[['chrom', 'pos']].values:\n",
    "    methylation_counts[v[0]].append(v[1])\n",
    "    \n",
    "meth_signal = defaultdict(list)\n",
    "\n",
    "# loop over every chromosome, and create a histogram of \n",
    "# methylation counts per 20 bp bin\n",
    "for chrom in methylation_counts:\n",
    "    if chrom == 'chrM': continue\n",
    "    # create as many bins as needed to have one \n",
    "    # every 20 bp on the chromosome\n",
    "    bins = int(chrom_sizes[chrom] / 20)\n",
    "    hist, edges = np.histogram(methylation_counts[chrom], bins=bins)\n",
    "    meth_signal[chrom] = list(hist)"
   ]
  },
  {
   "cell_type": "markdown",
   "metadata": {},
   "source": [
    "## Plot the genome-wide distribution of methylation and Red1 counts\n",
    "\n",
    "Here, we can bin the data further, since plotting thousands of 20 bp bins can be pretty messy."
   ]
  },
  {
   "cell_type": "code",
   "execution_count": null,
   "metadata": {},
   "outputs": [],
   "source": [
    "# create the figure object\n",
    "f, ax = plt.subplots(figsize=(12,4))\n",
    "\n",
    "chrom = 'chr6'\n",
    "window = 200\n",
    "\n",
    "# get the number of Red1 binding events or methylated sites\n",
    "# per `window` * 20bp interval\n",
    "m = obs_per_window(meth_signal[chrom], w=window)\n",
    "r = obs_per_window(red1_signal[chrom], w=window)\n",
    "\n",
    "# make sure the x values correspond to the true genomic positions\n",
    "x = [i*20*window for i in range(len(m))]\n",
    "\n",
    "ax2 = ax.twinx()\n",
    "\n",
    "ax.plot(x, r, color='firebrick', label='Red1 signal')\n",
    "ax2.plot(x, m, color='dodgerblue', label='Methylation signal')\n",
    "\n",
    "ax.set_xlabel('Chromosome position')\n",
    "ax.set_ylabel('Red1 binding counts per window')\n",
    "ax2.set_ylabel('Methlated sites per window')\n",
    "\n",
    "ax.legend()\n",
    "ax2.legend()"
   ]
  },
  {
   "cell_type": "markdown",
   "metadata": {},
   "source": [
    "## Use a hidden Markov model (HMM) to define broad regions of methylation or ChIP binding\n",
    "\n",
    "This is super preliminary, but could be useful to segment the data into more usable chunks."
   ]
  },
  {
   "cell_type": "code",
   "execution_count": null,
   "metadata": {},
   "outputs": [],
   "source": [
    "from pomegranate import *"
   ]
  },
  {
   "cell_type": "code",
   "execution_count": null,
   "metadata": {},
   "outputs": [],
   "source": [
    "red1_binding_sites = defaultdict(list)\n",
    "\n",
    "# catalog every Red1 binding site as a binary \"yes\" or \"no\"\n",
    "# binding event\n",
    "for i,row in red1.iterrows():\n",
    "    red1_binding_sites[row['chrom']].append(row['binary_signal'])\n",
    "        \n",
    "red1_hmm = defaultdict(list)\n",
    "\n",
    "# loop over every chromosome and use an HMM to segment\n",
    "# the binding profiles into broad regions\n",
    "for idx, chrom in enumerate(red1_binding_sites):\n",
    "    mx, my = [], []\n",
    "    \n",
    "    # define the expected profiles of \"bound\" or \n",
    "    # \"unbound\" regions (95% of sites should have Red1 signal\n",
    "    # in a \"bound\" region, with up to 5% of sites without Red1 signal)\n",
    "    d1 = DiscreteDistribution({1: 0.05, 0: 0.95})\n",
    "    d2 = DiscreteDistribution({1: 0.95, 0: 0.05})\n",
    "\n",
    "    s1 = State(d1, name='unbound')\n",
    "    s2 = State(d2, name='bound')\n",
    "\n",
    "    # inititate the model\n",
    "    hmm = HiddenMarkovModel()\n",
    "    hmm.add_states(s1, s2)\n",
    "    hmm.add_transition(hmm.start, s1, 0.5)\n",
    "    hmm.add_transition(hmm.start, s2, 0.5)\n",
    "    # define the transition probabilities (i.e, the probability of\n",
    "    # switching from a bound region to an unbound region). we intentionally\n",
    "    # make these probabilities extreme so that the model doesn't randomly\n",
    "    # switch back and forth if there's a little noise in the data\n",
    "    hmm.add_transition(s1, s1, 0.99)\n",
    "    hmm.add_transition(s1, s2, 0.01)\n",
    "    hmm.add_transition(s2, s1, 0.01)\n",
    "    hmm.add_transition(s2, s2, 0.99)\n",
    "    hmm.bake()\n",
    "    \n",
    "    # use the HMM to predict the binding profiles on the chromosome\n",
    "    hmm_predictions = hmm.predict(red1_binding_sites[chrom])\n",
    "    \n",
    "    switch_dict = {1:0, 0:1}\n",
    "    \n",
    "    if hmm.states[0].name == 'bound':\n",
    "        hmm_predictions = [switch_dict[e] for e in hmm_predictions]\n",
    "    \n",
    "    # record this chromosome's binding profile\n",
    "    red1_hmm[chrom] = hmm_predictions\n",
    "print red1_hmm"
   ]
  },
  {
   "cell_type": "markdown",
   "metadata": {},
   "source": [
    "## Plot reads that span multiple methylated sites\n",
    "\n",
    "Also, quite preliminary, but a quick visualization."
   ]
  },
  {
   "cell_type": "code",
   "execution_count": null,
   "metadata": {},
   "outputs": [],
   "source": [
    "df = pd.read_csv(\"methylation.log-lik-pos.tsv\", sep='\\t')"
   ]
  },
  {
   "cell_type": "code",
   "execution_count": null,
   "metadata": {},
   "outputs": [],
   "source": [
    "sites_per_read = defaultdict(list)\n",
    "\n",
    "# catalog all of the sites with likely methylation events\n",
    "# associated with a particular read\n",
    "for i,row in df.iterrows():\n",
    "    read_name = row['read_name']\n",
    "    sites_per_read[read_name].append(row['chromosome'] + ':' + str(row['end']))\n",
    "\n",
    "per_chrom_intervals = defaultdict(list)\n",
    "    \n",
    "# for every chromosome, store the full span of each read's methylation events\n",
    "for read in sites_per_read:\n",
    "    positions = [int(p.split(':')[-1]) for p in sites_per_read[read]]\n",
    "    chroms = [p.split(':')[0] for p in sites_per_read[read]]\n",
    "    d = defaultdict(list)\n",
    "    for k,v in zip(chroms, positions):\n",
    "        d[k].append(v)\n",
    "    for chrom in d:\n",
    "        per_chrom_intervals[chrom].append((min(d[chrom]), max(d[chrom]), read))"
   ]
  },
  {
   "cell_type": "code",
   "execution_count": null,
   "metadata": {},
   "outputs": [],
   "source": [
    "f, axarr = plt.subplots(len(per_chrom_intervals), 1, figsize=(10, 60))\n",
    "\n",
    "for idx,chrom in enumerate(per_chrom_intervals):\n",
    "    for interval in per_chrom_intervals[chrom]:\n",
    "        if interval[1] - interval[0] < 10000: continue\n",
    "        if interval[1] - interval[0] > 100000: continue\n",
    "            \n",
    "        x = [interval[0], interval[1]]\n",
    "        # add dither to reads when we plot them\n",
    "        y = np.ones(2) + np.random.normal(loc=0, scale=1)\n",
    "        \n",
    "        methylated_sites = per_chrom_intervals[chrom]\n",
    "        n = len(methylated_sites)\n",
    "        for i,site in enumerate(methylated_sites):\n",
    "            if i == n-1: break\n",
    "            if site in range(x[0], x[1]) and methylated_sites[i+1] in range(x[0], x[1]):\n",
    "                print 'read {} on chrom {} spans two methylated sites'.format(interval[-1],\n",
    "                                                                              str(chrom) + ':' + str(x[0]) + '-' + str(x[1]))\n",
    "        sites = [s[0] for s in methylated_sites]\n",
    "        axarr[idx].plot(x, y, color='k')\n",
    "        axarr[idx].scatter(sites, np.ones(len(sites)), \n",
    "                           facecolors='none', edgecolor='r')\n",
    "        axarr[idx].set_title(chrom)\n",
    "f.tight_layout()"
   ]
  },
  {
   "cell_type": "code",
   "execution_count": null,
   "metadata": {},
   "outputs": [],
   "source": []
  }
 ],
 "metadata": {
  "kernelspec": {
   "display_name": "Python 2",
   "language": "python",
   "name": "python2"
  },
  "language_info": {
   "codemirror_mode": {
    "name": "ipython",
    "version": 2
   },
   "file_extension": ".py",
   "mimetype": "text/x-python",
   "name": "python",
   "nbconvert_exporter": "python",
   "pygments_lexer": "ipython2",
   "version": "2.7.15"
  }
 },
 "nbformat": 4,
 "nbformat_minor": 2
}
